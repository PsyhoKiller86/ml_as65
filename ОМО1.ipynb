{
  "nbformat": 4,
  "nbformat_minor": 0,
  "metadata": {
    "colab": {
      "provenance": [],
      "authorship_tag": "ABX9TyNPfwbvyW2G+YYrE36f0x/2",
      "include_colab_link": true
    },
    "kernelspec": {
      "name": "python3",
      "display_name": "Python 3"
    },
    "language_info": {
      "name": "python"
    }
  },
  "cells": [
    {
      "cell_type": "markdown",
      "metadata": {
        "id": "view-in-github",
        "colab_type": "text"
      },
      "source": [
        "<a href=\"https://colab.research.google.com/github/coole-c/ml_as65/blob/main/%D0%9E%D0%9C%D0%9E1.ipynb\" target=\"_parent\"><img src=\"https://colab.research.google.com/assets/colab-badge.svg\" alt=\"Open In Colab\"/></a>"
      ]
    },
    {
      "cell_type": "markdown",
      "source": [
        "# Загрузка данных и просмотр первых строк"
      ],
      "metadata": {
        "id": "Xp-nHhNDvD1I"
      }
    },
    {
      "cell_type": "code",
      "source": [
        "import pandas as pd\n",
        "\n",
        "url = \"https://archive.ics.uci.edu/ml/machine-learning-databases/adult/adult.data\"\n",
        "\n",
        "df = pd.read_csv(url, header=None, engine=\"python\")\n",
        "\n",
        "df.columns = [\n",
        "    \"age\", \"workclass\", \"fnlwgt\", \"education\", \"education-num\",\n",
        "    \"marital-status\", \"occupation\", \"relationship\", \"race\", \"sex\",\n",
        "    \"capital-gain\", \"capital-loss\", \"hours-per-week\", \"native-country\", \"income\"\n",
        "]\n",
        "\n",
        "print(df.head())\n"
      ],
      "metadata": {
        "colab": {
          "base_uri": "https://localhost:8080/"
        },
        "id": "Y-YUj6iBvLc0",
        "outputId": "c4bbf58c-662b-4817-b02b-64ed46346332"
      },
      "execution_count": 24,
      "outputs": [
        {
          "output_type": "stream",
          "name": "stdout",
          "text": [
            "   age          workclass  fnlwgt   education  education-num  \\\n",
            "0   39          State-gov   77516   Bachelors             13   \n",
            "1   50   Self-emp-not-inc   83311   Bachelors             13   \n",
            "2   38            Private  215646     HS-grad              9   \n",
            "3   53            Private  234721        11th              7   \n",
            "4   28            Private  338409   Bachelors             13   \n",
            "\n",
            "        marital-status          occupation    relationship    race      sex  \\\n",
            "0        Never-married        Adm-clerical   Not-in-family   White     Male   \n",
            "1   Married-civ-spouse     Exec-managerial         Husband   White     Male   \n",
            "2             Divorced   Handlers-cleaners   Not-in-family   White     Male   \n",
            "3   Married-civ-spouse   Handlers-cleaners         Husband   Black     Male   \n",
            "4   Married-civ-spouse      Prof-specialty            Wife   Black   Female   \n",
            "\n",
            "   capital-gain  capital-loss  hours-per-week  native-country  income  \n",
            "0          2174             0              40   United-States   <=50K  \n",
            "1             0             0              13   United-States   <=50K  \n",
            "2             0             0              40   United-States   <=50K  \n",
            "3             0             0              40   United-States   <=50K  \n",
            "4             0             0              40            Cuba   <=50K  \n"
          ]
        }
      ]
    },
    {
      "cell_type": "markdown",
      "source": [
        "# Обработка пропусков в workclass"
      ],
      "metadata": {
        "id": "dUuYBm7Atsnv"
      }
    },
    {
      "cell_type": "code",
      "source": [
        "\n",
        "print(df['workclass'].value_counts())\n",
        "\n",
        "most_common = df['workclass'].mode()[0]\n",
        "print(\"Наиболее частое значение:\", most_common)\n",
        "\n",
        "df['workclass'] = df['workclass'].replace('?', most_common)\n",
        "\n",
        "print(df['workclass'].value_counts())\n",
        "\n"
      ],
      "metadata": {
        "id": "YaDsxyCrttGq",
        "colab": {
          "base_uri": "https://localhost:8080/"
        },
        "outputId": "9a86bda4-44d8-4f3c-a15d-8860cbfb823f"
      },
      "execution_count": 19,
      "outputs": [
        {
          "output_type": "stream",
          "name": "stdout",
          "text": [
            "workclass\n",
            "Private             22696\n",
            "Self-emp-not-inc     2541\n",
            "Local-gov            2093\n",
            "?                    1836\n",
            "State-gov            1298\n",
            "Self-emp-inc         1116\n",
            "Federal-gov           960\n",
            "Without-pay            14\n",
            "Never-worked            7\n",
            "Name: count, dtype: int64\n",
            "Наиболее частое значение: Private\n",
            "workclass\n",
            "Private             24532\n",
            "Self-emp-not-inc     2541\n",
            "Local-gov            2093\n",
            "State-gov            1298\n",
            "Self-emp-inc         1116\n",
            "Federal-gov           960\n",
            "Without-pay            14\n",
            "Never-worked            7\n",
            "Name: count, dtype: int64\n"
          ]
        }
      ]
    },
    {
      "cell_type": "markdown",
      "source": [
        "# Количество мужчин и женщин + визуализация"
      ],
      "metadata": {
        "id": "QE0Tx02QtxHn"
      }
    },
    {
      "cell_type": "code",
      "source": [
        "import matplotlib.pyplot as plt\n",
        "\n",
        "gender_counts = df['sex'].value_counts()\n",
        "print(gender_counts)\n",
        "\n",
        "gender_counts.plot(kind='bar', color=['skyblue', 'pink'])\n",
        "plt.title(\"Количество мужчин и женщин\")\n",
        "plt.xlabel(\"Пол\")\n",
        "plt.ylabel(\"Количество\")\n",
        "plt.show()\n"
      ],
      "metadata": {
        "colab": {
          "base_uri": "https://localhost:8080/",
          "height": 577
        },
        "id": "j3H6unSytzWC",
        "outputId": "842accc8-b8ac-4b8f-9910-009491f49861"
      },
      "execution_count": 20,
      "outputs": [
        {
          "output_type": "stream",
          "name": "stdout",
          "text": [
            "sex\n",
            "Male      21790\n",
            "Female    10771\n",
            "Name: count, dtype: int64\n"
          ]
        },
        {
          "output_type": "display_data",
          "data": {
            "text/plain": [
              "<Figure size 640x480 with 1 Axes>"
            ],
            "image/png": "[encoded data removed]"
          },
          "metadata": {}
        }
      ]
    },
    {
      "cell_type": "markdown",
      "source": [
        "# Преобразование race в числовой формат"
      ],
      "metadata": {
        "id": "8819av1JuGjq"
      }
    },
    {
      "cell_type": "code",
      "source": [
        "# Вариант 1: factorize (каждой категории присвоится код)\n",
        "df['race_encoded'] = pd.factorize(df['race'])[0]\n",
        "\n",
        "print(df[['race', 'race_encoded']].head(10))\n",
        "\n",
        "# Вариант 2: One-Hot Encoding\n",
        "# df = pd.get_dummies(df, columns=['race'], drop_first=True)\n"
      ],
      "metadata": {
        "colab": {
          "base_uri": "https://localhost:8080/"
        },
        "id": "Rkz7cz4PuLah",
        "outputId": "8d549267-ef01-47f7-d98c-afe95d414261"
      },
      "execution_count": 21,
      "outputs": [
        {
          "output_type": "stream",
          "name": "stdout",
          "text": [
            "    race  race_encoded\n",
            "0  White             0\n",
            "1  White             0\n",
            "2  White             0\n",
            "3  Black             1\n",
            "4  Black             1\n",
            "5  White             0\n",
            "6  Black             1\n",
            "7  White             0\n",
            "8  White             0\n",
            "9  White             0\n"
          ]
        }
      ]
    },
    {
      "cell_type": "markdown",
      "source": [
        "# Гистограмма распределения возраста (age)"
      ],
      "metadata": {
        "id": "G2J1xlmEuPOp"
      }
    },
    {
      "cell_type": "code",
      "source": [
        "\n",
        "df = df.apply(lambda x: x.str.strip() if x.dtype == \"object\" else x)\n",
        "import matplotlib.pyplot as plt\n",
        "\n",
        "plt.figure(figsize=(8,5))\n",
        "\n",
        "df[df['income'] == '<=50K']['age'].hist(bins=30, alpha=0.5, label='<=50K')\n",
        "df[df['income'] == '>50K']['age'].hist(bins=30, alpha=0.5, label='>50K')\n",
        "\n",
        "plt.legend()\n",
        "plt.xlabel(\"Возраст\")\n",
        "plt.ylabel(\"Количество\")\n",
        "plt.title(\"Распределение возраста по группам дохода\")\n",
        "plt.show()\n",
        "\n"
      ],
      "metadata": {
        "colab": {
          "base_uri": "https://localhost:8080/",
          "height": 487
        },
        "id": "uqWF8epeuPqZ",
        "outputId": "f5296759-1345-4bbc-c734-329ebb9616b3"
      },
      "execution_count": 22,
      "outputs": [
        {
          "output_type": "display_data",
          "data": {
            "text/plain": [
              "<Figure size 800x500 with 1 Axes>"
            ],
            "image/png": "[encoded data removed]"
          },
          "metadata": {}
        }
      ]
    },
    {
      "cell_type": "markdown",
      "source": [
        "# Новый бинарный признак is_usa"
      ],
      "metadata": {
        "id": "PIEWNWCjuVwR"
      }
    },
    {
      "cell_type": "code",
      "source": [
        "df['is_usa'] = df['native-country'].apply(lambda x: 1 if x == 'United-States' else 0)\n",
        "print(df[['native-country', 'is_usa']].head(10))\n"
      ],
      "metadata": {
        "colab": {
          "base_uri": "https://localhost:8080/"
        },
        "id": "uNBQm2kIuWoi",
        "outputId": "ed07ca89-1d18-4062-b4da-d9e4d42b0c8f"
      },
      "execution_count": 23,
      "outputs": [
        {
          "output_type": "stream",
          "name": "stdout",
          "text": [
            "  native-country  is_usa\n",
            "0  United-States       1\n",
            "1  United-States       1\n",
            "2  United-States       1\n",
            "3  United-States       1\n",
            "4           Cuba       0\n",
            "5  United-States       1\n",
            "6        Jamaica       0\n",
            "7  United-States       1\n",
            "8  United-States       1\n",
            "9  United-States       1\n"
          ]
        }
      ]
    }
  ]
}